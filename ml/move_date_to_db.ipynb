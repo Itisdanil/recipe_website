{
 "cells": [
  {
   "cell_type": "code",
   "execution_count": null,
   "metadata": {},
   "outputs": [],
   "source": [
    "# !pip install psycopg2-binary"
   ]
  },
  {
   "cell_type": "code",
   "execution_count": 91,
   "metadata": {},
   "outputs": [],
   "source": [
    "import os\n",
    "import re \n",
    "\n",
    "import psycopg2"
   ]
  },
  {
   "cell_type": "code",
   "execution_count": 2,
   "metadata": {},
   "outputs": [],
   "source": [
    "db_params = {\n",
    "    \"dbname\": \"\",\n",
    "    \"user\": \"\",\n",
    "    \"password\": \"\",\n",
    "    \"host\": \"\",\n",
    "    \"port\": \"\"\n",
    "}"
   ]
  },
  {
   "cell_type": "code",
   "execution_count": 3,
   "metadata": {},
   "outputs": [],
   "source": [
    "content_path = \"./text/recipe/\""
   ]
  },
  {
   "cell_type": "code",
   "execution_count": 4,
   "metadata": {},
   "outputs": [],
   "source": [
    "filenames = []\n",
    "for i in range(1, 351):\n",
    "    filenames.append(f\"{i}.txt\")"
   ]
  },
  {
   "cell_type": "code",
   "execution_count": 5,
   "metadata": {},
   "outputs": [],
   "source": [
    "# recipe table\n",
    "insert_query = \"INSERT INTO recipe (id, name, path_photo, creater_id) VALUES (%s, %s, %s, %s)\"\n",
    "\n",
    "conn = psycopg2.connect(**db_params)\n",
    "cur = conn.cursor()\n",
    "\n",
    "for filename in filenames:\n",
    "        file_path = os.path.join(content_path, filename)\n",
    "        with open(file_path, 'r', encoding='utf-8') as file:\n",
    "            file_content = file.read()\n",
    "\n",
    "            recipe_name = file_content.split(\"📖\")[0].replace(\"⠀\", \"\").strip()\n",
    "\n",
    "            recipe_id = int(filename.split('.')[0].strip())\n",
    "            path_photo = filename.split('.')[0].strip() + \".jpg\"\n",
    "\n",
    "            cur.execute(insert_query, (recipe_id, recipe_name, path_photo, 2))\n",
    "\n",
    "conn.commit()\n",
    "cur.close()\n",
    "conn.close()"
   ]
  },
  {
   "cell_type": "code",
   "execution_count": 94,
   "metadata": {},
   "outputs": [],
   "source": [
    "# ingridient table\n",
    "def extract_ingredients(text):\n",
    "    ingredients_block = re.search(r\"Ингредиенты:(.*?)🧑🏻‍🍳\", text, re.DOTALL)\n",
    "    if not ingredients_block:\n",
    "        return []\n",
    "\n",
    "    ingredients_text = ingredients_block.group(1)\n",
    "\n",
    "    ingredients = re.findall(r\"(?<=- )([А-ЯЁ][\\w\\s,.-]*?(?=\\s- [А-ЯЁ]|$))\", ingredients_text)\n",
    "\n",
    "    ingredients = [ingredient.strip() for ingredient in ingredients]\n",
    "\n",
    "    return ingredients\n",
    "\n",
    "insert_query = \"INSERT INTO ingredient (info, recipe_id) VALUES (%s, %s)\"\n",
    "\n",
    "conn = psycopg2.connect(**db_params)\n",
    "cur = conn.cursor()\n",
    "\n",
    "for filename in filenames:\n",
    "        file_path = os.path.join(content_path, filename)\n",
    "        with open(file_path, 'r', encoding='utf-8') as file:\n",
    "            file_content = file.read()\n",
    "\n",
    "            recipe_ingredients = extract_ingredients(file_content)\n",
    "\n",
    "            recipe_id = int(filename.split('.')[0].strip())\n",
    "\n",
    "            for ingridient in recipe_ingredients:\n",
    "                cur.execute(insert_query, (ingridient, recipe_id))\n",
    "\n",
    "conn.commit()\n",
    "cur.close()\n",
    "conn.close()"
   ]
  },
  {
   "cell_type": "code",
   "execution_count": 168,
   "metadata": {},
   "outputs": [],
   "source": [
    "# step table\n",
    "def extract_steps(text):\n",
    "    match = re.search(r'Приготовление:s*(.+)', text, re.DOTALL)\n",
    "    if match:\n",
    "        preparation_text = match.group(1)\n",
    "\n",
    "        steps = re.findall(r'(\\d+\\.s*[^.]+(?:.(?!s*d+.))?)+', preparation_text)\n",
    "\n",
    "        steps = [re.sub(r'^d+.s*', '', step).strip() for step in steps]\n",
    "\n",
    "        steps = [step[2:].strip() for step in steps]\n",
    "        \n",
    "        return steps\n",
    "    return []\n",
    "\n",
    "insert_query = \"INSERT INTO step (info, recipe_id) VALUES (%s, %s)\"\n",
    "\n",
    "conn = psycopg2.connect(**db_params)\n",
    "cur = conn.cursor()\n",
    "\n",
    "for filename in filenames:\n",
    "        file_path = os.path.join(content_path, filename)\n",
    "        with open(file_path, 'r', encoding='utf-8') as file:\n",
    "            file_content = file.read()\n",
    "\n",
    "            recipe_steps = extract_steps(file_content)\n",
    "\n",
    "            recipe_id = int(filename.split('.')[0].strip())\n",
    "\n",
    "            for step in recipe_steps:\n",
    "                cur.execute(insert_query, (step, recipe_id))\n",
    "\n",
    "conn.commit()\n",
    "cur.close()\n",
    "conn.close()\n"
   ]
  }
 ],
 "metadata": {
  "kernelspec": {
   "display_name": "recipe_website_ml",
   "language": "python",
   "name": "python3"
  },
  "language_info": {
   "codemirror_mode": {
    "name": "ipython",
    "version": 3
   },
   "file_extension": ".py",
   "mimetype": "text/x-python",
   "name": "python",
   "nbconvert_exporter": "python",
   "pygments_lexer": "ipython3",
   "version": "3.10.6"
  }
 },
 "nbformat": 4,
 "nbformat_minor": 2
}
