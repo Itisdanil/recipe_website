{
  "cells": [
    {
      "cell_type": "markdown",
      "id": "c2d53abe",
      "metadata": {
        "id": "c2d53abe"
      },
      "source": [
        "# Imports & funcs"
      ]
    },
    {
      "cell_type": "code",
      "source": [
        "# !pip install fuzzywuzzy transformers"
      ],
      "metadata": {
        "id": "K0jCEQQ00sm7"
      },
      "id": "K0jCEQQ00sm7",
      "execution_count": 1,
      "outputs": []
    },
    {
      "cell_type": "code",
      "execution_count": null,
      "id": "02ed93d5",
      "metadata": {
        "id": "02ed93d5"
      },
      "outputs": [],
      "source": [
        "import os\n",
        "import re\n",
        "\n",
        "import pandas as pd\n",
        "import numpy as np\n",
        "import torch\n",
        "from fuzzywuzzy import fuzz\n",
        "from fuzzywuzzy import process\n",
        "from sklearn.metrics.pairwise import cosine_similarity\n",
        "from transformers import AutoTokenizer, AutoModel"
      ]
    },
    {
      "cell_type": "code",
      "execution_count": 3,
      "id": "ab1778b4",
      "metadata": {
        "id": "ab1778b4"
      },
      "outputs": [],
      "source": [
        "pd.set_option('display.max_colwidth', None)"
      ]
    },
    {
      "cell_type": "code",
      "source": [
        "from google.colab import drive\n",
        "drive.mount('/content/drive')"
      ],
      "metadata": {
        "id": "YIam3cn5cu94"
      },
      "id": "YIam3cn5cu94",
      "execution_count": null,
      "outputs": []
    },
    {
      "cell_type": "code",
      "execution_count": 5,
      "id": "761a2606",
      "metadata": {
        "id": "761a2606"
      },
      "outputs": [],
      "source": [
        "def read_text_file(file_path):\n",
        "    with open(file_path, 'r') as f:\n",
        "        return f.read()"
      ]
    },
    {
      "cell_type": "code",
      "source": [
        "def extract_recipes_names(recipes):\n",
        "    return list(map(lambda x: x.split('📖')[0].strip(), recipes))"
      ],
      "metadata": {
        "id": "CkHO3UY97hHC"
      },
      "id": "CkHO3UY97hHC",
      "execution_count": 6,
      "outputs": []
    },
    {
      "cell_type": "code",
      "execution_count": 7,
      "id": "97fb5c16",
      "metadata": {
        "id": "97fb5c16"
      },
      "outputs": [],
      "source": [
        "def extract_ingridients(recipes):\n",
        "    ingredients_lists = []\n",
        "\n",
        "    for recipe in recipes:\n",
        "        ingredients_part = re.search(r'Ингредиенты:(.*?)🧑🏻‍🍳', recipe, re.DOTALL)\n",
        "        if not ingredients_part:\n",
        "            continue\n",
        "        ingredients_text = ingredients_part.group(1)\n",
        "\n",
        "        ingredients = [ingredient.strip() for ingredient in ingredients_text.split('-') if ingredient.strip()]\n",
        "\n",
        "        ingredients = [re.sub(r'\\s*-\\s*.*', '', ingredient) for ingredient in ingredients]\n",
        "\n",
        "        upper_case_ingredients = [ingredient for ingredient in ingredients if ingredient[0].isupper()]\n",
        "\n",
        "        ingredients_lists.append(upper_case_ingredients)\n",
        "\n",
        "    return ingredients_lists"
      ]
    },
    {
      "cell_type": "code",
      "source": [
        "def encode_text(text):\n",
        "    input_ids = tokenizer.encode(text, add_special_tokens=True, return_tensors='pt', max_length=512, truncation=True)\n",
        "    with torch.no_grad():\n",
        "        outputs = model(input_ids)\n",
        "    return outputs.last_hidden_state.mean(dim=1)"
      ],
      "metadata": {
        "id": "4WaQMMKGeHxM"
      },
      "id": "4WaQMMKGeHxM",
      "execution_count": 8,
      "outputs": []
    },
    {
      "cell_type": "code",
      "source": [
        "def get_list_of_recipes(dists_values, threshold):\n",
        "    ans_indices = np.where(dists_values > threshold)[0]\n",
        "    values = dists_values[ans_indices]\n",
        "    sorted_indices_desc = ans_indices[np.argsort(-values)]\n",
        "\n",
        "    if len(sorted_indices_desc) > 0:\n",
        "        return sorted_indices_desc, True\n",
        "\n",
        "    return [], False"
      ],
      "metadata": {
        "id": "wdV6uHFs3RYc"
      },
      "id": "wdV6uHFs3RYc",
      "execution_count": 9,
      "outputs": []
    },
    {
      "cell_type": "code",
      "source": [
        "tokenizer = AutoTokenizer.from_pretrained('cointegrated/rubert-tiny2')\n",
        "model = AutoModel.from_pretrained('cointegrated/rubert-tiny2')"
      ],
      "metadata": {
        "id": "51AD0Ynsdfid"
      },
      "id": "51AD0Ynsdfid",
      "execution_count": null,
      "outputs": []
    },
    {
      "cell_type": "markdown",
      "id": "166289ad",
      "metadata": {
        "id": "166289ad"
      },
      "source": [
        "# Data analysis"
      ]
    },
    {
      "cell_type": "code",
      "execution_count": 11,
      "id": "12d2e1ac",
      "metadata": {
        "id": "12d2e1ac"
      },
      "outputs": [],
      "source": [
        "all_recipe_files = sorted(os.listdir(\"/content/drive/MyDrive/text/recipe/\"))"
      ]
    },
    {
      "cell_type": "code",
      "execution_count": 12,
      "id": "fc262547",
      "metadata": {
        "id": "fc262547"
      },
      "outputs": [],
      "source": [
        "recipes = []\n",
        "for file in all_recipe_files:\n",
        "    recipes.append((file.split('.')[0], read_text_file(\"/content/drive/MyDrive/text/recipe/\" + file)))"
      ]
    },
    {
      "cell_type": "code",
      "execution_count": 13,
      "id": "29f1c193",
      "metadata": {
        "id": "29f1c193"
      },
      "outputs": [],
      "source": [
        "data = pd.DataFrame(columns=[\"recipe_id\", \"text\"])\n",
        "\n",
        "data[\"recipe_id\"] = list(map(lambda x: x[0], recipes))\n",
        "data[\"text\"] = list(map(lambda x: x[1], recipes))\n",
        "\n",
        "data[\"recipe_id\"] = data[\"recipe_id\"].astype(int)"
      ]
    },
    {
      "cell_type": "code",
      "execution_count": 14,
      "id": "9a43e31a",
      "metadata": {
        "id": "9a43e31a"
      },
      "outputs": [],
      "source": [
        "data = data.sort_values(\"recipe_id\")\n",
        "data.reset_index(drop=True, inplace=True)"
      ]
    },
    {
      "cell_type": "markdown",
      "id": "cacc5a7a",
      "metadata": {
        "id": "cacc5a7a"
      },
      "source": [
        "# Search"
      ]
    },
    {
      "cell_type": "markdown",
      "id": "b6eafa62",
      "metadata": {
        "id": "b6eafa62"
      },
      "source": [
        "По ингридиентам и рецептам"
      ]
    },
    {
      "cell_type": "code",
      "source": [
        "def get_ans_search(query, dist_threshold=90, sim_threshold=0.65, action_type=\"recipes\"):\n",
        "    recipes = data.text.tolist()\n",
        "\n",
        "    if action_type == \"recipes\":\n",
        "        # 1 step\n",
        "        recipes_names = extract_recipes_names(recipes)\n",
        "\n",
        "        lev_dists = np.array(list(map(lambda x: fuzz.WRatio(query, x), recipes_names)))\n",
        "\n",
        "        ans_recipes, flag = get_list_of_recipes(lev_dists, dist_threshold)\n",
        "\n",
        "        if flag:\n",
        "            return ans_recipes\n",
        "\n",
        "        # 2 step\n",
        "        search_vector = encode_text(query)\n",
        "        recipe_vectors = torch.stack([encode_text(recipe) for recipe in recipes_names])\n",
        "\n",
        "        cosine_similarities = cosine_similarity(search_vector, recipe_vectors.reshape(recipe_vectors.shape[0], recipe_vectors.shape[2]))\n",
        "\n",
        "        ans_recipes, flag = get_list_of_recipes(cosine_similarities[0], sim_threshold)\n",
        "\n",
        "        if flag:\n",
        "            return ans_recipes\n",
        "\n",
        "    elif action_type == \"ingridients\":\n",
        "        # 1 step\n",
        "        ingridients = extract_ingridients(recipes)\n",
        "\n",
        "        lev_dists = np.array(list(map(lambda x: fuzz.WRatio(query, ' '.join(x).lower()), ingridients)))\n",
        "\n",
        "        ans_recipes, flag = get_list_of_recipes(lev_dists, dist_threshold)\n",
        "\n",
        "        if flag:\n",
        "            return ans_recipes\n",
        "\n",
        "         # 2 step\n",
        "        search_vector = encode_text(query)\n",
        "        ingridients_vectors = torch.stack([encode_text(' '.join(ingridient)) for ingridient in ingridients])\n",
        "\n",
        "        cosine_similarities = cosine_similarity(search_vector, ingridients_vectors.reshape(ingridients_vectors.shape[0], ingridients_vectors.shape[2]))\n",
        "\n",
        "        ans_recipes, flag = get_list_of_recipes(cosine_similarities[0], sim_threshold)\n",
        "\n",
        "        if flag:\n",
        "            return ans_recipes\n",
        "\n",
        "    return []"
      ],
      "metadata": {
        "id": "rSGdzQdLhRM8"
      },
      "id": "rSGdzQdLhRM8",
      "execution_count": 15,
      "outputs": []
    },
    {
      "cell_type": "markdown",
      "id": "70433ba3",
      "metadata": {
        "id": "70433ba3"
      },
      "source": [
        "# RecSys"
      ]
    },
    {
      "cell_type": "code",
      "source": [
        "def get_recommendation_by_fav(recipe_id):\n",
        "    recipes = data[data[\"recipe_id\"] != recipe_id].text.tolist()\n",
        "\n",
        "    search_vector = encode_text(data[data[\"recipe_id\"] == recipe_id].text.tolist()[0])\n",
        "    recipe_vectors = torch.stack([encode_text(recipe) for recipe in recipes])\n",
        "\n",
        "    cosine_similarities = cosine_similarity(search_vector, recipe_vectors.reshape(recipe_vectors.shape[0], recipe_vectors.shape[2]))\n",
        "\n",
        "    sorted_indices = torch.argsort(torch.tensor(cosine_similarities[0]), descending=True).numpy()\n",
        "\n",
        "    return recipes[sorted_indices[:9]], cosine_similarities[0][sorted_indices[:9]]"
      ],
      "metadata": {
        "id": "IW0b2mHRzJUU"
      },
      "id": "IW0b2mHRzJUU",
      "execution_count": 16,
      "outputs": []
    }
  ],
  "metadata": {
    "kernelspec": {
      "display_name": "Python 3",
      "name": "python3"
    },
    "language_info": {
      "codemirror_mode": {
        "name": "ipython",
        "version": 3
      },
      "file_extension": ".py",
      "mimetype": "text/x-python",
      "name": "python",
      "nbconvert_exporter": "python",
      "pygments_lexer": "ipython3",
      "version": "3.8.15"
    },
    "colab": {
      "provenance": []
    }
  },
  "nbformat": 4,
  "nbformat_minor": 5
}