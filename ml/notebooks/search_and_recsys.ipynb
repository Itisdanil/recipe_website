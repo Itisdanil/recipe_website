{
  "cells": [
    {
      "cell_type": "markdown",
      "id": "c2d53abe",
      "metadata": {
        "id": "c2d53abe"
      },
      "source": [
        "# Imports & funcs"
      ]
    },
    {
      "cell_type": "code",
      "source": [
        "# !pip install fuzzywuzzy transformers"
      ],
      "metadata": {
        "id": "K0jCEQQ00sm7"
      },
      "id": "K0jCEQQ00sm7",
      "execution_count": 1,
      "outputs": []
    },
    {
      "cell_type": "code",
      "execution_count": 2,
      "id": "02ed93d5",
      "metadata": {
        "id": "02ed93d5",
        "colab": {
          "base_uri": "https://localhost:8080/"
        },
        "outputId": "32be6608-960c-4627-8cea-3f1f462bd50f"
      },
      "outputs": [
        {
          "output_type": "stream",
          "name": "stderr",
          "text": [
            "/usr/local/lib/python3.10/dist-packages/fuzzywuzzy/fuzz.py:11: UserWarning: Using slow pure-python SequenceMatcher. Install python-Levenshtein to remove this warning\n",
            "  warnings.warn('Using slow pure-python SequenceMatcher. Install python-Levenshtein to remove this warning')\n"
          ]
        }
      ],
      "source": [
        "import os\n",
        "import re\n",
        "\n",
        "import pandas as pd\n",
        "import numpy as np\n",
        "import torch\n",
        "from fuzzywuzzy import fuzz\n",
        "from fuzzywuzzy import process\n",
        "from sklearn.metrics.pairwise import cosine_similarity\n",
        "from transformers import AutoTokenizer, AutoModel"
      ]
    },
    {
      "cell_type": "code",
      "execution_count": 3,
      "id": "ab1778b4",
      "metadata": {
        "id": "ab1778b4"
      },
      "outputs": [],
      "source": [
        "pd.set_option('display.max_colwidth', None)"
      ]
    },
    {
      "cell_type": "code",
      "source": [
        "from google.colab import drive\n",
        "drive.mount('/content/drive')"
      ],
      "metadata": {
        "id": "YIam3cn5cu94",
        "colab": {
          "base_uri": "https://localhost:8080/"
        },
        "outputId": "5ed88cc9-7665-4023-c382-1fc1b69cc258"
      },
      "id": "YIam3cn5cu94",
      "execution_count": 4,
      "outputs": [
        {
          "output_type": "stream",
          "name": "stdout",
          "text": [
            "Drive already mounted at /content/drive; to attempt to forcibly remount, call drive.mount(\"/content/drive\", force_remount=True).\n"
          ]
        }
      ]
    },
    {
      "cell_type": "code",
      "execution_count": 5,
      "id": "761a2606",
      "metadata": {
        "id": "761a2606"
      },
      "outputs": [],
      "source": [
        "def read_text_file(file_path):\n",
        "    with open(file_path, 'r') as f:\n",
        "        return f.read()"
      ]
    },
    {
      "cell_type": "code",
      "source": [
        "def extract_recipes_names(recipes):\n",
        "    return list(map(lambda x: x.split('📖')[0].strip(), recipes))"
      ],
      "metadata": {
        "id": "CkHO3UY97hHC"
      },
      "id": "CkHO3UY97hHC",
      "execution_count": 6,
      "outputs": []
    },
    {
      "cell_type": "code",
      "execution_count": 7,
      "id": "97fb5c16",
      "metadata": {
        "id": "97fb5c16"
      },
      "outputs": [],
      "source": [
        "def extract_ingridients(recipes):\n",
        "    ingredients_lists = []\n",
        "\n",
        "    for recipe in recipes:\n",
        "        ingredients_part = re.search(r'Ингредиенты:(.*?)🧑🏻‍🍳', recipe, re.DOTALL)\n",
        "        if not ingredients_part:\n",
        "            continue\n",
        "        ingredients_text = ingredients_part.group(1)\n",
        "\n",
        "        ingredients = [ingredient.strip() for ingredient in ingredients_text.split('-') if ingredient.strip()]\n",
        "\n",
        "        ingredients = [re.sub(r'\\s*-\\s*.*', '', ingredient) for ingredient in ingredients]\n",
        "\n",
        "        upper_case_ingredients = [ingredient for ingredient in ingredients if ingredient[0].isupper()]\n",
        "\n",
        "        ingredients_lists.append(' '.join(upper_case_ingredients))\n",
        "\n",
        "    return ingredients_lists"
      ]
    },
    {
      "cell_type": "code",
      "source": [
        "def encode_text(text):\n",
        "    input_ids = tokenizer.encode(text, add_special_tokens=True, return_tensors='pt', max_length=512, truncation=True)\n",
        "    with torch.no_grad():\n",
        "        outputs = model(input_ids)\n",
        "    return outputs.last_hidden_state.mean(dim=1)"
      ],
      "metadata": {
        "id": "4WaQMMKGeHxM"
      },
      "id": "4WaQMMKGeHxM",
      "execution_count": 8,
      "outputs": []
    },
    {
      "cell_type": "code",
      "source": [
        "def get_list_of_recipes(dists_values, threshold):\n",
        "    ans_indices = np.where(dists_values > threshold)[0]\n",
        "    values = dists_values[ans_indices]\n",
        "    sorted_indices_desc = ans_indices[np.argsort(-values)]\n",
        "\n",
        "    if len(sorted_indices_desc) > 0:\n",
        "        return sorted_indices_desc, True\n",
        "\n",
        "    return [], False"
      ],
      "metadata": {
        "id": "wdV6uHFs3RYc"
      },
      "id": "wdV6uHFs3RYc",
      "execution_count": 9,
      "outputs": []
    },
    {
      "cell_type": "code",
      "source": [
        "tokenizer = AutoTokenizer.from_pretrained('cointegrated/rubert-tiny2')\n",
        "model = AutoModel.from_pretrained('cointegrated/rubert-tiny2')"
      ],
      "metadata": {
        "id": "51AD0Ynsdfid",
        "colab": {
          "base_uri": "https://localhost:8080/"
        },
        "outputId": "ca6e9913-6de8-40a6-da5c-045d955b159a"
      },
      "id": "51AD0Ynsdfid",
      "execution_count": 10,
      "outputs": [
        {
          "output_type": "stream",
          "name": "stderr",
          "text": [
            "/usr/local/lib/python3.10/dist-packages/huggingface_hub/utils/_token.py:88: UserWarning: \n",
            "The secret `HF_TOKEN` does not exist in your Colab secrets.\n",
            "To authenticate with the Hugging Face Hub, create a token in your settings tab (https://huggingface.co/settings/tokens), set it as secret in your Google Colab and restart your session.\n",
            "You will be able to reuse this secret in all of your notebooks.\n",
            "Please note that authentication is recommended but still optional to access public models or datasets.\n",
            "  warnings.warn(\n"
          ]
        }
      ]
    },
    {
      "cell_type": "markdown",
      "id": "166289ad",
      "metadata": {
        "id": "166289ad"
      },
      "source": [
        "# Data analysis"
      ]
    },
    {
      "cell_type": "code",
      "execution_count": 11,
      "id": "12d2e1ac",
      "metadata": {
        "id": "12d2e1ac"
      },
      "outputs": [],
      "source": [
        "all_recipe_files = sorted(os.listdir(\"/content/drive/MyDrive/text/recipe/\"))"
      ]
    },
    {
      "cell_type": "code",
      "execution_count": 12,
      "id": "fc262547",
      "metadata": {
        "id": "fc262547"
      },
      "outputs": [],
      "source": [
        "recipes = []\n",
        "for file in all_recipe_files:\n",
        "    recipes.append((file.split('.')[0], read_text_file(\"/content/drive/MyDrive/text/recipe/\" + file)))"
      ]
    },
    {
      "cell_type": "code",
      "execution_count": 13,
      "id": "29f1c193",
      "metadata": {
        "id": "29f1c193"
      },
      "outputs": [],
      "source": [
        "data = pd.DataFrame(columns=[\"recipe_id\", \"text\"])\n",
        "\n",
        "data[\"recipe_id\"] = list(map(lambda x: x[0], recipes))\n",
        "data[\"text\"] = list(map(lambda x: x[1], recipes))\n",
        "\n",
        "data[\"recipe_id\"] = data[\"recipe_id\"].astype(int)"
      ]
    },
    {
      "cell_type": "code",
      "execution_count": 14,
      "id": "9a43e31a",
      "metadata": {
        "id": "9a43e31a"
      },
      "outputs": [],
      "source": [
        "data = data.sort_values(\"recipe_id\")\n",
        "data.reset_index(drop=True, inplace=True)"
      ]
    },
    {
      "cell_type": "markdown",
      "id": "cacc5a7a",
      "metadata": {
        "id": "cacc5a7a"
      },
      "source": [
        "# Search"
      ]
    },
    {
      "cell_type": "markdown",
      "id": "b6eafa62",
      "metadata": {
        "id": "b6eafa62"
      },
      "source": [
        "По ингридиентам и рецептам"
      ]
    },
    {
      "cell_type": "code",
      "source": [
        "def get_ans_search(query, dist_threshold=85, sim_threshold=0.7, action_type=\"recipes\"):\n",
        "    recipes = data.text.tolist()\n",
        "\n",
        "    func = extract_recipes_names if action_type == \"recipes\" else extract_ingridients\n",
        "\n",
        "    # 1 step\n",
        "    useful_info_recipes = func(recipes)\n",
        "\n",
        "    lev_dists = np.array(list(map(lambda x: fuzz.WRatio(query, x), useful_info_recipes)))\n",
        "\n",
        "    ans_recipes, flag = get_list_of_recipes(lev_dists, dist_threshold)\n",
        "\n",
        "    if flag:\n",
        "        return ans_recipes\n",
        "\n",
        "    # 2 step\n",
        "    search_vector = encode_text(query)\n",
        "    recipe_vectors = torch.stack([encode_text(recipe) for recipe in useful_info_recipes])\n",
        "\n",
        "    cosine_similarities = cosine_similarity(search_vector, recipe_vectors.reshape(recipe_vectors.shape[0], recipe_vectors.shape[2]))\n",
        "\n",
        "    ans_recipes, flag = get_list_of_recipes(cosine_similarities[0], sim_threshold)\n",
        "\n",
        "    return ans_recipes"
      ],
      "metadata": {
        "id": "OVQKTx-dIBGJ"
      },
      "id": "OVQKTx-dIBGJ",
      "execution_count": 15,
      "outputs": []
    },
    {
      "cell_type": "markdown",
      "source": [
        "Тестирование поиска по рецептам"
      ],
      "metadata": {
        "id": "38TWLzAEiwcS"
      },
      "id": "38TWLzAEiwcS"
    },
    {
      "cell_type": "code",
      "source": [
        "get_ans_search(\"банановый кекс\")"
      ],
      "metadata": {
        "colab": {
          "base_uri": "https://localhost:8080/"
        },
        "id": "ubz16dK4Ou8D",
        "outputId": "c7b9765b-1991-4aa2-ce2c-8b49fad53259"
      },
      "id": "ubz16dK4Ou8D",
      "execution_count": 16,
      "outputs": [
        {
          "output_type": "execute_result",
          "data": {
            "text/plain": [
              "array([251,   3,   7])"
            ]
          },
          "metadata": {},
          "execution_count": 16
        }
      ]
    },
    {
      "cell_type": "code",
      "source": [
        "data.text.loc[251], data.text.loc[3], data.text.loc[7]"
      ],
      "metadata": {
        "colab": {
          "base_uri": "https://localhost:8080/"
        },
        "id": "KnmAPoZCO77i",
        "outputId": "6790cfc4-d0f0-4c63-fb3c-54f313dc6a83"
      },
      "id": "KnmAPoZCO77i",
      "execution_count": 17,
      "outputs": [
        {
          "output_type": "execute_result",
          "data": {
            "text/plain": [
              "('Банановый кекс в микроволновке 📖 Ингредиенты: - Банан - 2 шт. - Яйцо - 2 шт. - Сливочное масло - 100 г. - Сахар - 100 г. - Мука - 100 г. - Разрыхлитель - 1 ч. л. - Соль - 1 щепотка - Корица - 2 ч. л. - Молоко - 4 ст. л. 🧑🏻\\u200d🍳 Приготовление: 1. Бананы очистить от кожуры, нарезать на небольшие кусочки и размять вилкой или толкушкой в пюре. 2. Смешать банановое пюре с яйцами, растопленным сливочным маслом, сахаром и перемешать. 3. Муку, разрыхлитель, щепотку соли, корицу и молоко добавить в банановую смесь. Перемешать до однородности. 4. Распределить смесь по форме пригодной для микроволновки. Указанное количество ингредиентов рассчитано на емкость объемом 1 литр. 5. Запечь в микроволновке на максимальной мощности (850-1100 ватт) 8 минут. Готовый кекс по желанию присыпать сахарной пудрой #банановыйкекс #кекс #десерт',\n",
              " 'Банановый пирог на песочном тесте 📖 Ингредиенты: - Мука - 300 г. - Масло сливочное - 100 г. - Банан - 3 шт. - Яйцо - 3 шт. - Сметана - 1 ст.л. - Сахар - 1 ст.л. 🧑🏻\\u200d🍳 Приготовление: 1. Отделить белки от желтков. Желтки смешать с сахарным песком, добавить растопленное сливочное масло, всыпать муку. Должно получиться плотное тесто. Поставить его на полчаса в холодильник. 2. Охлажденный продукт выложить в форму. Сверху слой очищенных и нарезанных бананов, залить сметаной, лучше жирной. 3. Поставить в духовой шкаф на 20 минут. Оставшиеся белки взбить с сахаром. Выпечку вынуть, выложить белок, поставить в духовку еще на три минуты. Затем сразу перенести банановый пирог в холод. #банановыйпирог #пирог #десерт',\n",
              " 'Ореховый кекс за 30 минут 📖 Ингредиенты: - Яйцо - 2 шт. - Ванилин - 6 г. - Сливочное масло - 100 г. - Разрыхлитель -10 г. - Мука - 200 г. - Сахар - 100 г. - Изюм 100 г. - Грецкие орехи - 100 г. 🧑🏻\\u200d🍳 Приготовление: 1. Яйца взбить в пену, добавить ванилин и сахар. Ещё раз хорошо взбить. 2. Добавить тёплое сливочное масло, хорошо перемешать до однородности. 3. Изюм предварительно замочить в горячей воде на 10 минут. Хорошо промыть. Грецкие орехи нарезать. 4. Добавить в масляную смесь изюм, разрыхлитель и муку. Замесить однородное тесто без комочков. 5. Тесто выложить ровным слоем в форму, сверху посыпать нарезанные орехи. 6. Выпекать при температуре 180 градусов около 20 минут. 7. Нарезать, подавать с сахарной пудрой. #ореховыйкекс #кекс #выпечка #десерт')"
            ]
          },
          "metadata": {},
          "execution_count": 17
        }
      ]
    },
    {
      "cell_type": "markdown",
      "source": [
        "Тестирование поиска по ингридиентам"
      ],
      "metadata": {
        "id": "vgPkIqNni0uO"
      },
      "id": "vgPkIqNni0uO"
    },
    {
      "cell_type": "code",
      "source": [
        "get_ans_search(\"масло сливочное\", action_type=\"ingridients\")[:3]"
      ],
      "metadata": {
        "id": "BSnJrgw0PSaK",
        "colab": {
          "base_uri": "https://localhost:8080/"
        },
        "outputId": "964c47a3-0914-4f83-bf46-c37a000c3c11"
      },
      "id": "BSnJrgw0PSaK",
      "execution_count": 18,
      "outputs": [
        {
          "output_type": "execute_result",
          "data": {
            "text/plain": [
              "array([  2,   3, 255])"
            ]
          },
          "metadata": {},
          "execution_count": 18
        }
      ]
    },
    {
      "cell_type": "code",
      "source": [
        "data.text.loc[2], data.text.loc[3], data.text.loc[255]"
      ],
      "metadata": {
        "colab": {
          "base_uri": "https://localhost:8080/"
        },
        "id": "8r6ux78YjmDi",
        "outputId": "87c63215-f3d3-44cd-ae65-3632566980e8"
      },
      "id": "8r6ux78YjmDi",
      "execution_count": 19,
      "outputs": [
        {
          "output_type": "execute_result",
          "data": {
            "text/plain": [
              "('Шоколадный фондан 📖 Ингредиенты:⠀ - Шоколад темный - 100 г. - Масло сливочное - 60 г. - Яйцо- 2 шт. - Сахар - 3 ст.л. ⠀ - Мука - 2 ст.л. ⠀ - Какао - 2 ч.л ⠀ - Разрыхлитель - 1 ч.л ⠀ - Соль - 1/4 ч.л ⠀ ⠀ 🧑🏻\\u200d🍳 Приготовление:⠀ 1. Шоколад ломаем на кусочки и растапливаем на водяной бане или микроволновой печи короткими импульсами. Растапливаем сливочное масло в микроволновой печи и соединяем с шоколадом. 2. В отдельной емкости соединяемых яйца и сахар, перемешиваем. 3. Вливаем к яйцам с сахаром шоколадно-масляную смесь, добавляем муку, соль, разрыхлитель и перемешиваем. Раскладываем тесто по формочкам. 4. Духовку разогреваем до 180 и ставим формочки на верхний уровень. Выпекаем 7 минут. Готово! #шоколадныйфондан #десерт',\n",
              " 'Банановый пирог на песочном тесте 📖 Ингредиенты: - Мука - 300 г. - Масло сливочное - 100 г. - Банан - 3 шт. - Яйцо - 3 шт. - Сметана - 1 ст.л. - Сахар - 1 ст.л. 🧑🏻\\u200d🍳 Приготовление: 1. Отделить белки от желтков. Желтки смешать с сахарным песком, добавить растопленное сливочное масло, всыпать муку. Должно получиться плотное тесто. Поставить его на полчаса в холодильник. 2. Охлажденный продукт выложить в форму. Сверху слой очищенных и нарезанных бананов, залить сметаной, лучше жирной. 3. Поставить в духовой шкаф на 20 минут. Оставшиеся белки взбить с сахаром. Выпечку вынуть, выложить белок, поставить в духовку еще на три минуты. Затем сразу перенести банановый пирог в холод. #банановыйпирог #пирог #десерт',\n",
              " 'Песочное кольцо с арахисом ⠀ 📖 Ингредиенты: - Масло сливочное - 200 г. - Сахар - 100 г. - Яйцо - 2 шт. - Ванилин - по вкусу - Соль - треть ч.л - Мука - 350 гр - Разрыхлитель - 1 ч.л. - Арахис - 100 г. - Сахар - 30 г. 🧑🏻\\u200d🍳 Приготовление: 1. Арахис промываем, очищаем от шелухи, рубим не очень мелко, добавляем сахар и перемешиваем Сливочное масло, сахар, яйца, соль, ванилин соединяем и растираем до однородной массы. 2. Просеиваем муку, разрыхлитель и замешиваем мягкое тесто. Раскатываем тесто в пласт толщиной 5-6 мм и вырезаем круги. 3. Выкладываем на противень и убираем в морозильник на 5-7 минут. Смазываем желтком, кладем на измельченный и перемешанный с сахаром арахис и прижимаем. 4. Выпекаем при температуре 200 градусов 12-15 минут. #песочноекольцо #десерт #выпечка')"
            ]
          },
          "metadata": {},
          "execution_count": 19
        }
      ]
    },
    {
      "cell_type": "markdown",
      "id": "70433ba3",
      "metadata": {
        "id": "70433ba3"
      },
      "source": [
        "# RecSys"
      ]
    },
    {
      "cell_type": "code",
      "source": [
        "def get_recommendation_by_fav(recipe_id, dist_threshold=0.5, sim_threshold=0.5):\n",
        "    recipes = data[data[\"recipe_id\"] != recipe_id].text.tolist()\n",
        "\n",
        "    anchor_recipe_name = extract_recipes_names(data[data[\"recipe_id\"] == recipe_id].text.tolist())[0]\n",
        "    recipes_names = extract_recipes_names(recipes)\n",
        "\n",
        "    lev_dists = np.array(list(map(lambda x: fuzz.WRatio(anchor_recipe_name, x), recipes_names)))\n",
        "\n",
        "    ans_recipes, _ = get_list_of_recipes(lev_dists, dist_threshold)\n",
        "\n",
        "    first_step = ans_recipes[:50]\n",
        "\n",
        "    anchor_vector = encode_text(anchor_recipe_name)\n",
        "    recipe_vectors = torch.stack([encode_text(recipe) for recipe in recipes_names])\n",
        "\n",
        "    cosine_similarities = cosine_similarity(anchor_vector, recipe_vectors.reshape(recipe_vectors.shape[0], recipe_vectors.shape[2]))\n",
        "\n",
        "    ans_recipes, _ = get_list_of_recipes(cosine_similarities[0], sim_threshold)\n",
        "\n",
        "    second_step = ans_recipes[:50]\n",
        "\n",
        "    return [item for item in second_step if item in set(first_step)][:9]"
      ],
      "metadata": {
        "id": "OA56g_Z7UTYO"
      },
      "id": "OA56g_Z7UTYO",
      "execution_count": 20,
      "outputs": []
    },
    {
      "cell_type": "code",
      "source": [
        "predict_recipes = get_recommendation_by_fav(50)"
      ],
      "metadata": {
        "id": "d45wlovJ0yJf"
      },
      "id": "d45wlovJ0yJf",
      "execution_count": 21,
      "outputs": []
    },
    {
      "cell_type": "code",
      "source": [
        "print(f\"Рецепт из избранного:\\n{data[data['recipe_id'] == 50].text.values[0]}\\n\\nРекомендуемые рецепты:\\n{data[data['recipe_id'] != 50].text[predict_recipes].values}\")"
      ],
      "metadata": {
        "colab": {
          "base_uri": "https://localhost:8080/"
        },
        "id": "du5qFaZH013x",
        "outputId": "d33f7ac9-8839-454c-d32e-be0d26a7bc9f"
      },
      "id": "du5qFaZH013x",
      "execution_count": 22,
      "outputs": [
        {
          "output_type": "stream",
          "name": "stdout",
          "text": [
            "Рецепт из избранного:\n",
            "Сметанный торт 📖 Ингредиенты: - Сметана - 2 стакана - Мука - 3 стакана - Сахар - 3/4 стакана (плюс 1/2 стакана в крем) - Сода - 1/4 ч. л. - Соль - — 1/4 ч. л. - Ванильный сахар — 1/3 ч. л. 🧑🏻‍🍳 Приготовление: 1. Разогреть духовку до 230-240 градусов. Смазать противень растительным маслом. 2. Перемешать в большой миске сметану, сахар и соль. Всыпать муку и соду, замесить тесто. 3. Разделить готовое тесто на 4 равные части. Из каждой части скалкой раскатать круг. Выложить коржи на подготовленный противень. Выпекать в течение 10-15 минут. 4. Тем временем приготовить крем: Взбить сметану с сахаром и ванильным сахаром. 5. Выложить один корж на большое блюдо, смазать кремом, накрыть сверху вторым коржом, смазать его кремом и т.д. 6. Четвертый корж измельчить до консистенции крошек и посыпать им третий корж, обильно смазанный кремом. Украсить торт по желанию и поставить в холодильник на 3-4 часа. #сметанныйторт #торт #десерт\n",
            "\n",
            "Рекомендуемые рецепты:\n",
            "['Шоколадный бисквит на кефире 📖 Ингредиенты: - Мука-330 г. - Какао-25 г. - Разрыхлитель-2 ч.л - Ванильный сахар-2 ч.л. - Соль- четверть ч.л. - Кефир-280 мл. - Сахар-250 г. - Слив. масло-150 г. - Растительное масло-100 мл. - Яйца-3 шт. 🧑🏻\\u200d🍳 Приготовление: 1. Мягкое слив. масло соединяем с сахаром и взбиваем до однородности. Не прекращая взбивать добавляем яйца по одному. 2. Вливаем раст. масло и кефир,доводим до однородности. Просеиваем все сухие ингредиенты. 3. На медленных оборотах взбиваем до однородной консистенции. Тесто делим на 3 части,чтобы их не делить после выпечки. 4. Выпекаем бисквиты в разогретой до 180% духовке примерно 25 минут. Смотрите по своей духовке. Готовность проверяйте деревянной шпажкой. #шоколадныйбисквит #бисквит #десерт 🔝 https://t.me/topretsept 🔝 ⠀'\n",
            " 'Творожно-сметанная запеканка 📖 Ингредиенты: - Творог - 400 г. - Яйцо - 1 шт. - Сахар - 35 г. - Манная крупа - 1 ст. л. Для заливки: - Сметана - 350 г. - Желток - 1 шт. - Сахар - 25 г. - Ванильный сахар - 1 ч. л. 🧑🏻\\u200d🍳 Приготовление: 1. Творог растереть или пробить блендером. Добавить яйцо и взбить. 2. Добавить манку и сахар, хорошо все перемешать. 3. Выложить смесь в форму, смазанную сливочным маслом и запекать в разогретой до 170 градусов духовке 30 минут. 4. Для заливки смешать сметану, сахар, ванильный сахар и желток. 5. Достать из духовки запеканку из залить сметанной массой. Отправить в духовку еще на 15 минут. 6. Достать из духовки и дать остыть. Украсить ягодами по желанию. #творожносметаннаязапеканка #запеканка #десерт'\n",
            " 'Манная каша с изюмом 📖 Ингредиенты: - Изюм - 50 г. - Молоко - 500 мл. - Сахар - 1-2 ст. л. - Корица - 1 щепотка - Манная крупа - 3 ст. л. - Сливочное масло - по вкусу 🧑🏻\\u200d🍳 Приготовление: 1. Замочите изюм в горячей воде на полчаса. Доведите молоко до кипения. Закиньте изюм, сахар и корицу. 2. Постоянно помешивая, медленно всыпьте манку. Готовьте на слабом огне несколько минут до загустения. 3. Подавайте манную кашу с небольшим кусочком сливочного масла. #маннаякаша #каша #горячееблюдо 🔝 https://t.me/topretsept 🔝'\n",
            " 'Крем-брюле 📖 Ингредиенты: - Сливки 20% - 2 стакана - Сахар - 14 ст. ложек - Стручок ванили - 1 шт. - Желтки куриные - 4 шт. - Ванильный экстракт - 0.5 ч.л. - Соль - щепотка 🧑🏻\\u200d🍳 Приготовление: 1. В сотейник налейте сливки, добавьте 4 столовые ложки сахара, ваниль, соль. Варите до закипания. Сразу после закипания уберите сотейник с огня и оставьте на 15 минут. 2. К желткам добавьте 6 столовых ложек сахара и взбейте венчиком. 3. Перемешивайте желтки и влейте горячие сливки, а затем добавьте ванильный экстракт. 4. Распределите приготовленную смесь по пиалам. 5. Возьмите форму или глубокий противень, простелите пергаментом и поставьте пиалы. 6. Наполните кипятком примерно на 1/3 формы. 7. Запекайте в разогретом до 165 градусов духовом шкафу 30 минут. 8. Остудите крем-брюле в течение 15 минут. 9. Посыпьте каждую форму оставшимся сахаром. 10. Разогрейте духовку до 200 градусов и запекайте десерт 3-4 минуты до образования золотистой корочки. #крембрюле #десерт'\n",
            " 'Вишнёвый десерт 📖 Ингредиенты: - Вишня (без косточки) - 200 г. - Сахар - 100 г. - Ванильный Сахар - 1 ч. л. - Печенье шоколадное - 100 г. - Творог - 250 г. - Сливки - 120 мл. - Сахарная пудра - 100 г. - Шоколад - 50 г. 🧑🏻\\u200d🍳 Приготовление: 1. Приготовить вишневый сироп. Для этого вишню без косточек засыпать сахаром, добавить ванильный сахар и поставить на небольшой огонь. Довести до кипения и варить 10 минут, постоянно помешивая. Затем снять с огня и остудить. 2. Творог взбить со сливками и сахарной пудрой в пышную кремообразную массу. 3. Печенье разломать на кусочки. На дно креманок выложить слой печенья. 4. Сверху положить часть вишни вместе с сиропом. Затем выложить слой творожной массы. Затем снова слой печенья. Слой вишни с сиропом. 5. Сверху равномерно распределить творожную массу. Убрать креманки с десертом в холодильник на 1 час. #вишневыйдесерт #десерт'\n",
            " 'Турецкие плюшки 📖 Ингредиенты: - Мука - 400 г. - Молоко - 180 мл. - Сухие дрожжи - 6 г. - Яйцо - 1 шт. - Растительное масло - 70 мл. - Сахар - 3 ст. л. - Соль - 1,5 ч. л. - Сливочное масло - 50 г. - Желток +Молоко - для смазывания - Сахар - для посыпки 🧑🏻\\u200d🍳 Приготовление: 1. Дрожжи развести в 50 мл теплого молока с добавлением 1 чайной ложки сахара, перемешать, оставить на 15 минут. 2. Смешать оставшееся молоко, яйцо, сахар, соль, масло и опару. Просеять муку в получившуюся смесь и замесить тесто. Оставить тесто в теплом месте на 1 час. 3.Разделить тесто на 10-12 частей. Каждый шарик раскатать в овал, толщиной 3 мм, сделать несколько надрезов вдоль. 4. Смазать овал обильно мягким сливочным маслом и присылает сахаром. 5. Свернуть овал по диагонали в рулет, а затем скрутить в “улитку”. 6. Смазать булочки желтком, смешанным с небольшим количеством молока и отправить в духовку на 20-25 минут при 180 С. #турецкиебулочки #булочки #выпечка #десерт'\n",
            " 'Печенье «Минутка» 📖 Ингредиенты: - Сливочное масло - 150 г. - Сметана - 150 г. - Яйцо - 2 шт. - Джем - 70 г. - Мука - 450 г. - Сахарная пудра - 10 г. 🧑🏻\\u200d🍳 Приготовление: 1. Сметану смешать с маслом (размягченным). Добавить яйца. Перемешать. Добавить муку. Замесить тесто. 2. Тесто раскатать толщиной 2–3 мм. Нарезать квадратики (примерно 5×5 см). Выложить джем. Сформировать печенье в форме конвертиков. 3. Противень смазать маслом или застелить бумагой для выпечки. Выложить печенье. Поставить в разогретую до 180 градусов духовку. 4. Выпекать в течение 10–15 минут. Готовое печенье можно посыпать сахарной пудрой. #печенье #печеньеминутка #выпечка #десерт'\n",
            " 'Запеченный картофель 📖 Ингредиенты: - Сливочное масло - 1 ст.л. - Чеснок - 2 зубчика - Мука - 1 ст.л. - Молоко - 240 мл. - Соль - 1 ч.л. - Перец - 0.5 ч.л. - Картофель - 3-4 шт. - Пармезан или другой сыр - 2 ст.л. - Петрушка - по вкусу 🧑🏻\\u200d🍳 Приготовление: 1. Разогреть духовку до 180°C 2. В кастрюле растопить сливочное масло и обжарить чеснок. Добавить муку, соль и перец. Взбить, чтобы не осталось комочков. 3. Влить молоко и перемешать 4. Довести до кипения и снять с огня. 5. Нарезать картофель и разложить ломтики веером в небольшой форме для запекания. 6. Сверху картофель залить соусом и посыпать пармезаном. 7. Выпекать около 40-50 мин. 8. Посыпать петрушкой Приятного аппетита! #запеченыйкартофель #горячееблюдо'\n",
            " 'Карамельный пирог с яблоками 📖 Ингредиенты: - Мука - 280 г - Мягкое слив.масло - 180 г - Сахар - 150 г - Яйцо - 2 шт - Разрыхлитель - 1,5 ч. л - Щепотка соли Для карамельной начинки: - Молоко - 200 мл. - Сахар - 180 г - Сливки 33% - 140 мл - Желток - 1 шт - Мука - 20 г - Яблоко - 1 шт 🧑🏻\\u200d🍳 Приготовление: 1. Сливочное масло взбить с сахаром до кремового состояния. Добавить яйца,муку, разрыхлитель и соль. Замесить тесто и убрать в морозильник на 30 минут. 2. Растопить сахар до янтарного цвета. В другом сотейнике довести до кипения сливки. После соединить их с карамелью до однородности. 3. В миске смешать муку, желток и молоко. Желтковую массу добавить в карамель и вернуть сотейник на огонь. Подогреть до 80 С. 4. Яблоко порезать на кусочки. Охлажденное тесто выложить в кольцо и сформировать бортики. Выложить яблоки в форму и залить карамелью. 5. Выпекать в разогретой до 170 С духовке в течение 40 минут. #карамельныйпирогсяблоками #карамельныйпирог #пирог #выпечка #десерт 🔝 https://t.me/topretsept 🔝']\n"
          ]
        }
      ]
    }
  ],
  "metadata": {
    "kernelspec": {
      "display_name": "Python 3",
      "name": "python3"
    },
    "language_info": {
      "codemirror_mode": {
        "name": "ipython",
        "version": 3
      },
      "file_extension": ".py",
      "mimetype": "text/x-python",
      "name": "python",
      "nbconvert_exporter": "python",
      "pygments_lexer": "ipython3",
      "version": "3.8.15"
    },
    "colab": {
      "provenance": [],
      "gpuType": "T4"
    },
    "accelerator": "GPU"
  },
  "nbformat": 4,
  "nbformat_minor": 5
}